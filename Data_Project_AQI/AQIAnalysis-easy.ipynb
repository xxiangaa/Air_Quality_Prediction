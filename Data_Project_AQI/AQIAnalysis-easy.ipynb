{
 "cells": [
  {
   "cell_type": "code",
   "execution_count": 1,
   "metadata": {},
   "outputs": [],
   "source": [
    "import numpy as np\n",
    "import pandas as pd\n",
    "import matplotlib.pyplot as plt"
   ]
  },
  {
   "cell_type": "code",
   "execution_count": 2,
   "metadata": {
    "scrolled": true
   },
   "outputs": [
    {
     "name": "stdout",
     "output_type": "stream",
     "text": [
      "(317, 12)\n"
     ]
    },
    {
     "data": {
      "text/html": [
       "<div>\n",
       "<style scoped>\n",
       "    .dataframe tbody tr th:only-of-type {\n",
       "        vertical-align: middle;\n",
       "    }\n",
       "\n",
       "    .dataframe tbody tr th {\n",
       "        vertical-align: top;\n",
       "    }\n",
       "\n",
       "    .dataframe thead th {\n",
       "        text-align: right;\n",
       "    }\n",
       "</style>\n",
       "<table border=\"1\" class=\"dataframe\">\n",
       "  <thead>\n",
       "    <tr style=\"text-align: right;\">\n",
       "      <th></th>\n",
       "      <th>District</th>\n",
       "      <th>AQI</th>\n",
       "      <th>Precipitation</th>\n",
       "      <th>GDP</th>\n",
       "      <th>Temperature</th>\n",
       "      <th>Longitude</th>\n",
       "      <th>Latitude</th>\n",
       "      <th>Altitude</th>\n",
       "      <th>PopulationDensity</th>\n",
       "      <th>Coastal</th>\n",
       "      <th>GreenCoverageRate</th>\n",
       "      <th>Incineration</th>\n",
       "    </tr>\n",
       "  </thead>\n",
       "  <tbody>\n",
       "    <tr>\n",
       "      <th>0</th>\n",
       "      <td>中西區</td>\n",
       "      <td>23</td>\n",
       "      <td>665.1</td>\n",
       "      <td>271.13</td>\n",
       "      <td>8.200000</td>\n",
       "      <td>102.224650</td>\n",
       "      <td>31.899410</td>\n",
       "      <td>2617.0</td>\n",
       "      <td>11</td>\n",
       "      <td>0</td>\n",
       "      <td>36.00</td>\n",
       "      <td>23.00</td>\n",
       "    </tr>\n",
       "    <tr>\n",
       "      <th>1</th>\n",
       "      <td>南區</td>\n",
       "      <td>137</td>\n",
       "      <td>80.4</td>\n",
       "      <td>610.00</td>\n",
       "      <td>12.276712</td>\n",
       "      <td>80.263380</td>\n",
       "      <td>41.167540</td>\n",
       "      <td>1108.0</td>\n",
       "      <td>6547</td>\n",
       "      <td>0</td>\n",
       "      <td>33.94</td>\n",
       "      <td>23.00</td>\n",
       "    </tr>\n",
       "    <tr>\n",
       "      <th>2</th>\n",
       "      <td>東區</td>\n",
       "      <td>85</td>\n",
       "      <td>150.0</td>\n",
       "      <td>322.58</td>\n",
       "      <td>24.200000</td>\n",
       "      <td>105.728950</td>\n",
       "      <td>38.851920</td>\n",
       "      <td>1673.0</td>\n",
       "      <td>1</td>\n",
       "      <td>0</td>\n",
       "      <td>36.00</td>\n",
       "      <td>23.00</td>\n",
       "    </tr>\n",
       "    <tr>\n",
       "      <th>3</th>\n",
       "      <td>觀塘</td>\n",
       "      <td>28</td>\n",
       "      <td>74.2</td>\n",
       "      <td>37.40</td>\n",
       "      <td>1.000000</td>\n",
       "      <td>80.105800</td>\n",
       "      <td>32.501110</td>\n",
       "      <td>4280.0</td>\n",
       "      <td>1</td>\n",
       "      <td>0</td>\n",
       "      <td>36.00</td>\n",
       "      <td>23.00</td>\n",
       "    </tr>\n",
       "    <tr>\n",
       "      <th>4</th>\n",
       "      <td>深水埗</td>\n",
       "      <td>79</td>\n",
       "      <td>2127.8</td>\n",
       "      <td>1613.20</td>\n",
       "      <td>17.291781</td>\n",
       "      <td>117.034431</td>\n",
       "      <td>30.512646</td>\n",
       "      <td>13.0</td>\n",
       "      <td>2271</td>\n",
       "      <td>0</td>\n",
       "      <td>45.80</td>\n",
       "      <td>27.48</td>\n",
       "    </tr>\n",
       "    <tr>\n",
       "      <th>...</th>\n",
       "      <td>...</td>\n",
       "      <td>...</td>\n",
       "      <td>...</td>\n",
       "      <td>...</td>\n",
       "      <td>...</td>\n",
       "      <td>...</td>\n",
       "      <td>...</td>\n",
       "      <td>...</td>\n",
       "      <td>...</td>\n",
       "      <td>...</td>\n",
       "      <td>...</td>\n",
       "      <td>...</td>\n",
       "    </tr>\n",
       "    <tr>\n",
       "      <th>312</th>\n",
       "      <td>塔門</td>\n",
       "      <td>79</td>\n",
       "      <td>1388.0</td>\n",
       "      <td>1807.09</td>\n",
       "      <td>15.946575</td>\n",
       "      <td>114.035690</td>\n",
       "      <td>32.979042</td>\n",
       "      <td>84.0</td>\n",
       "      <td>2539</td>\n",
       "      <td>0</td>\n",
       "      <td>39.46</td>\n",
       "      <td>18.86</td>\n",
       "    </tr>\n",
       "    <tr>\n",
       "      <th>313</th>\n",
       "      <td>銅鑼灣</td>\n",
       "      <td>86</td>\n",
       "      <td>807.8</td>\n",
       "      <td>1270.40</td>\n",
       "      <td>16.182192</td>\n",
       "      <td>104.650190</td>\n",
       "      <td>30.122671</td>\n",
       "      <td>367.0</td>\n",
       "      <td>1787</td>\n",
       "      <td>0</td>\n",
       "      <td>38.67</td>\n",
       "      <td>18.28</td>\n",
       "    </tr>\n",
       "    <tr>\n",
       "      <th>314</th>\n",
       "      <td>中環</td>\n",
       "      <td>116</td>\n",
       "      <td>288.0</td>\n",
       "      <td>4130.20</td>\n",
       "      <td>14.576712</td>\n",
       "      <td>118.056053</td>\n",
       "      <td>36.793579</td>\n",
       "      <td>38.0</td>\n",
       "      <td>782</td>\n",
       "      <td>0</td>\n",
       "      <td>36.00</td>\n",
       "      <td>31.00</td>\n",
       "    </tr>\n",
       "    <tr>\n",
       "      <th>315</th>\n",
       "      <td>旺角</td>\n",
       "      <td>118</td>\n",
       "      <td>994.8</td>\n",
       "      <td>1143.11</td>\n",
       "      <td>19.432877</td>\n",
       "      <td>104.776352</td>\n",
       "      <td>29.367722</td>\n",
       "      <td>311.0</td>\n",
       "      <td>1557</td>\n",
       "      <td>0</td>\n",
       "      <td>40.20</td>\n",
       "      <td>35.47</td>\n",
       "    </tr>\n",
       "    <tr>\n",
       "      <th>316</th>\n",
       "      <td>中西區</td>\n",
       "      <td>60</td>\n",
       "      <td>1000.0</td>\n",
       "      <td>2168.34</td>\n",
       "      <td>16.991781</td>\n",
       "      <td>106.929398</td>\n",
       "      <td>27.695387</td>\n",
       "      <td>865.0</td>\n",
       "      <td>3581</td>\n",
       "      <td>0</td>\n",
       "      <td>44.06</td>\n",
       "      <td>34.51</td>\n",
       "    </tr>\n",
       "  </tbody>\n",
       "</table>\n",
       "<p>317 rows × 12 columns</p>\n",
       "</div>"
      ],
      "text/plain": [
       "    District  AQI  Precipitation      GDP  Temperature   Longitude   Latitude  \\\n",
       "0        中西區   23          665.1   271.13     8.200000  102.224650  31.899410   \n",
       "1         南區  137           80.4   610.00    12.276712   80.263380  41.167540   \n",
       "2         東區   85          150.0   322.58    24.200000  105.728950  38.851920   \n",
       "3         觀塘   28           74.2    37.40     1.000000   80.105800  32.501110   \n",
       "4        深水埗   79         2127.8  1613.20    17.291781  117.034431  30.512646   \n",
       "..       ...  ...            ...      ...          ...         ...        ...   \n",
       "312       塔門   79         1388.0  1807.09    15.946575  114.035690  32.979042   \n",
       "313      銅鑼灣   86          807.8  1270.40    16.182192  104.650190  30.122671   \n",
       "314       中環  116          288.0  4130.20    14.576712  118.056053  36.793579   \n",
       "315       旺角  118          994.8  1143.11    19.432877  104.776352  29.367722   \n",
       "316      中西區   60         1000.0  2168.34    16.991781  106.929398  27.695387   \n",
       "\n",
       "     Altitude  PopulationDensity  Coastal  GreenCoverageRate  Incineration  \n",
       "0      2617.0                 11        0              36.00         23.00  \n",
       "1      1108.0               6547        0              33.94         23.00  \n",
       "2      1673.0                  1        0              36.00         23.00  \n",
       "3      4280.0                  1        0              36.00         23.00  \n",
       "4        13.0               2271        0              45.80         27.48  \n",
       "..        ...                ...      ...                ...           ...  \n",
       "312      84.0               2539        0              39.46         18.86  \n",
       "313     367.0               1787        0              38.67         18.28  \n",
       "314      38.0                782        0              36.00         31.00  \n",
       "315     311.0               1557        0              40.20         35.47  \n",
       "316     865.0               3581        0              44.06         34.51  \n",
       "\n",
       "[317 rows x 12 columns]"
      ]
     },
     "execution_count": 2,
     "metadata": {},
     "output_type": "execute_result"
    }
   ],
   "source": [
    "data = pd.read_csv(\"./data.csv\")\n",
    "print(data.shape)\n",
    "data"
   ]
  },
  {
   "cell_type": "markdown",
   "metadata": {},
   "source": [
    "## 空氣質量預測"
   ]
  },
  {
   "cell_type": "markdown",
   "metadata": {},
   "source": [
    "### 基模型\n",
    "首先我們不做任何處理建立基礎模型，之後在改造看效果。"
   ]
  },
  {
   "cell_type": "code",
   "execution_count": 3,
   "metadata": {},
   "outputs": [],
   "source": [
    "from sklearn.linear_model import LinearRegression\n",
    "from sklearn.model_selection import train_test_split\n",
    "from sklearn.metrics import accuracy_score\n",
    "\n",
    "X = data.drop([\"District\", \"AQI\"], axis=1)\n",
    "y = data[\"AQI\"]\n",
    "X_train, X_test, y_train, y_test = train_test_split(X,\n",
    "                                                    y,\n",
    "                                                    test_size=0.3,\n",
    "                                                    random_state=0)"
   ]
  },
  {
   "cell_type": "code",
   "execution_count": 4,
   "metadata": {},
   "outputs": [
    {
     "name": "stdout",
     "output_type": "stream",
     "text": [
      "實際值： [62 24 44 16 88]\n",
      "預測值： [109.54497604  20.70283818  95.1031786   47.57703917  89.6555943 ]\n",
      "訓練集R^2： 0.45634596561464025\n",
      "測試集R^2： 0.4179617826627\n"
     ]
    }
   ],
   "source": [
    "lr = LinearRegression()\n",
    "lr.fit(X_train, y_train)\n",
    "y_hat = lr.predict(X_test)\n",
    "\n",
    "print(\"實際值：\", y_test[:5].values)\n",
    "print(\"預測值：\", y_hat[:5])\n",
    "print(\"訓練集R^2：\",lr.score(X_train, y_train))\n",
    "print(\"測試集R^2：\",lr.score(X_test, y_test))"
   ]
  },
  {
   "cell_type": "code",
   "execution_count": 5,
   "metadata": {},
   "outputs": [
    {
     "data": {
      "image/png": "[encoded data removed]",
      "text/plain": [
       "<Figure size 1080x576 with 1 Axes>"
      ]
     },
     "metadata": {
      "needs_background": "light"
     },
     "output_type": "display_data"
    }
   ],
   "source": [
    "# 繪製預測結果圖\n",
    "plt.figure(figsize=(15, 8))\n",
    "plt.plot(y_test.values, label=\"Real value\", color=\"indianred\", marker=\"o\")\n",
    "plt.plot(y_hat, label=\"Predictive value\", color=\"c\", marker=\"*\")\n",
    "plt.xlabel(\"Test set data sequence\")\n",
    "plt.ylabel(\"Data values\")\n",
    "plt.title(\"Linear regression prediction results\", fontsize=12)\n",
    "plt.legend(loc=1)\n",
    "plt.savefig('predict_result.png')"
   ]
  },
  {
   "cell_type": "markdown",
   "metadata": {},
   "source": [
    "#### 進行特征選擇"
   ]
  },
  {
   "cell_type": "code",
   "execution_count": 6,
   "metadata": {},
   "outputs": [
    {
     "name": "stdout",
     "output_type": "stream",
     "text": [
      "剩餘特征數量: 8\n",
      "LinearRegression()\n",
      "特征等級: [1 2 1 1 1 1 3 1 1 1]\n",
      "特征是否被選擇: [ True False  True  True  True  True False  True  True  True]\n",
      "交叉驗證得分: [0.17927437 0.31223187 0.34978893 0.33849708 0.35198834 0.3461472\n",
      " 0.3615249  0.36289154 0.33617978 0.34049761]\n"
     ]
    }
   ],
   "source": [
    "from sklearn.feature_selection import RFECV\n",
    "\n",
    "rfecv = RFECV(estimator=lr,step=1,cv=5,n_jobs=-1,scoring=\"r2\")\n",
    "# estimator：要操作的模型\n",
    "# step：每次刪除的特征數量\n",
    "# cv：使用交叉驗證的折數\n",
    "# n_jobs：並發的數量\n",
    "# scoring：評估方式\n",
    "rfecv.fit(X_train, y_train)\n",
    "# 返回經過選擇之後，剩餘的特征數量\n",
    "print(\"剩餘特征數量:\",rfecv.n_features_)\n",
    "# 返回經過特征選擇後，使用縮減特征訓練的模型\n",
    "print(rfecv.estimator_)\n",
    "# 返回每個特征的等級，數值越小等級越重要\n",
    "print(\"特征等級:\",rfecv.ranking_)\n",
    "# 返回布爾數組，看特征是否被選擇\n",
    "print(\"特征是否被選擇:\",rfecv.support_)\n",
    "# 返回對應數量特征時，模型交叉驗證的得分\n",
    "print(\"交叉驗證得分:\",rfecv.grid_scores_)"
   ]
  },
  {
   "cell_type": "markdown",
   "metadata": {},
   "source": [
    "刪除兩個特征影響不大。"
   ]
  },
  {
   "cell_type": "markdown",
   "metadata": {},
   "source": [
    "對重選特征測試。"
   ]
  },
  {
   "cell_type": "code",
   "execution_count": 7,
   "metadata": {},
   "outputs": [
    {
     "name": "stdout",
     "output_type": "stream",
     "text": [
      "選擇的變量： Index(['Precipitation', 'Temperature', 'Longitude', 'Latitude', 'Altitude',\n",
      "       'Coastal', 'GreenCoverageRate', 'Incineration'],\n",
      "      dtype='object')\n",
      "剔除的變量： Index(['GDP', 'PopulationDensity'], dtype='object')\n",
      "0.45178952850835274\n",
      "0.413630742895043\n"
     ]
    }
   ],
   "source": [
    "print(\"選擇的變量：\", X_train.columns[rfecv.support_])\n",
    "print(\"剔除的變量：\", X_train.columns[~rfecv.support_])\n",
    "X_train_eli = rfecv.transform(X_train)\n",
    "X_test_eli = rfecv.transform(X_test)\n",
    "print(rfecv.estimator_.score(X_train_eli, y_train))\n",
    "print(rfecv.estimator_.score(X_test_eli, y_test))"
   ]
  },
  {
   "cell_type": "code",
   "execution_count": 8,
   "metadata": {},
   "outputs": [
    {
     "name": "stdout",
     "output_type": "stream",
     "text": [
      "剩餘特征數量: 8\n",
      "LinearRegression()\n",
      "特征的等級: [1 2 1 1 1 1 3 1 1 1]\n",
      "特征是否被選擇: [ True False  True  True  True  True False  True  True  True]\n",
      "交叉驗證得分: [0.17927437 0.31223187 0.34978893 0.33849708 0.35198834 0.3461472\n",
      " 0.3615249  0.36289154 0.33617978 0.34049761]\n"
     ]
    },
    {
     "data": {
      "text/plain": [
       "Text(0, 0.5, '交叉驗證$R^2$值')"
      ]
     },
     "execution_count": 8,
     "metadata": {},
     "output_type": "execute_result"
    },
    {
     "name": "stderr",
     "output_type": "stream",
     "text": [
      "/Users/maxine/opt/anaconda3/lib/python3.8/site-packages/matplotlib/backends/backend_agg.py:238: RuntimeWarning: Glyph 29305 missing from current font.\n",
      "  font.set_text(s, 0.0, flags=flags)\n",
      "/Users/maxine/opt/anaconda3/lib/python3.8/site-packages/matplotlib/backends/backend_agg.py:238: RuntimeWarning: Glyph 24449 missing from current font.\n",
      "  font.set_text(s, 0.0, flags=flags)\n",
      "/Users/maxine/opt/anaconda3/lib/python3.8/site-packages/matplotlib/backends/backend_agg.py:238: RuntimeWarning: Glyph 25976 missing from current font.\n",
      "  font.set_text(s, 0.0, flags=flags)\n",
      "/Users/maxine/opt/anaconda3/lib/python3.8/site-packages/matplotlib/backends/backend_agg.py:238: RuntimeWarning: Glyph 37327 missing from current font.\n",
      "  font.set_text(s, 0.0, flags=flags)\n",
      "Font 'default' does not have a glyph for '\\u4ea4' [U+4ea4], substituting with a dummy symbol.\n",
      "Font 'default' does not have a glyph for '\\u53c9' [U+53c9], substituting with a dummy symbol.\n",
      "Font 'default' does not have a glyph for '\\u9a57' [U+9a57], substituting with a dummy symbol.\n",
      "Font 'default' does not have a glyph for '\\u8b49' [U+8b49], substituting with a dummy symbol.\n",
      "Font 'default' does not have a glyph for '\\u503c' [U+503c], substituting with a dummy symbol.\n",
      "/Users/maxine/opt/anaconda3/lib/python3.8/site-packages/matplotlib/backends/backend_agg.py:201: RuntimeWarning: Glyph 29305 missing from current font.\n",
      "  font.set_text(s, 0, flags=flags)\n",
      "/Users/maxine/opt/anaconda3/lib/python3.8/site-packages/matplotlib/backends/backend_agg.py:201: RuntimeWarning: Glyph 24449 missing from current font.\n",
      "  font.set_text(s, 0, flags=flags)\n",
      "/Users/maxine/opt/anaconda3/lib/python3.8/site-packages/matplotlib/backends/backend_agg.py:201: RuntimeWarning: Glyph 25976 missing from current font.\n",
      "  font.set_text(s, 0, flags=flags)\n",
      "/Users/maxine/opt/anaconda3/lib/python3.8/site-packages/matplotlib/backends/backend_agg.py:201: RuntimeWarning: Glyph 37327 missing from current font.\n",
      "  font.set_text(s, 0, flags=flags)\n",
      "Font 'default' does not have a glyph for '\\u4ea4' [U+4ea4], substituting with a dummy symbol.\n",
      "Font 'default' does not have a glyph for '\\u53c9' [U+53c9], substituting with a dummy symbol.\n",
      "Font 'default' does not have a glyph for '\\u9a57' [U+9a57], substituting with a dummy symbol.\n",
      "Font 'default' does not have a glyph for '\\u8b49' [U+8b49], substituting with a dummy symbol.\n",
      "Font 'default' does not have a glyph for '\\u503c' [U+503c], substituting with a dummy symbol.\n"
     ]
    },
    {
     "data": {
      "image/png": "[encoded data removed]",
      "text/plain": [
       "<Figure size 432x288 with 1 Axes>"
      ]
     },
     "metadata": {
      "needs_background": "light"
     },
     "output_type": "display_data"
    }
   ],
   "source": [
    "# 再次进行特征选择，并绘制交叉验证的得分情况\n",
    "rfecv = RFECV(estimator=lr,step=1,cv=5,n_jobs=-1,scoring=\"r2\")\n",
    "rfecv.fit(X_train, y_train)\n",
    "print(\"剩餘特征數量:\",rfecv.n_features_)\n",
    "print(rfecv.estimator_)\n",
    "print(\"特征的等級:\",rfecv.ranking_)\n",
    "print(\"特征是否被選擇:\",rfecv.support_)\n",
    "print(\"交叉驗證得分:\",rfecv.grid_scores_)\n",
    "\n",
    "# 绘制交叉验证的得分情况\n",
    "plt.plot(range(1, len(rfecv.grid_scores_) + 1), rfecv.grid_scores_, marker=\"*\")\n",
    "plt.xlabel(\"特征數量\")\n",
    "plt.ylabel(\"交叉驗證$R^2$值\")"
   ]
  },
  {
   "cell_type": "code",
   "execution_count": 9,
   "metadata": {},
   "outputs": [
    {
     "name": "stdout",
     "output_type": "stream",
     "text": [
      "選擇的變量： Index(['Precipitation', 'Temperature', 'Longitude', 'Latitude', 'Altitude',\n",
      "       'Coastal', 'GreenCoverageRate', 'Incineration'],\n",
      "      dtype='object')\n",
      "剔除的變量： Index(['GDP', 'PopulationDensity'], dtype='object')\n",
      "0.45178952850835274\n",
      "0.413630742895043\n"
     ]
    }
   ],
   "source": [
    "print(\"選擇的變量：\", X_train.columns[rfecv.support_])\n",
    "print(\"剔除的變量：\", X_train.columns[~rfecv.support_])\n",
    "X_train_eli = X_train[X_train.columns[rfecv.support_]]\n",
    "X_test_eli = X_test[X_test.columns[rfecv.support_]]\n",
    "print(rfecv.estimator_.score(X_train_eli, y_train))\n",
    "print(rfecv.estimator_.score(X_test_eli, y_test))"
   ]
  },
  {
   "cell_type": "markdown",
   "metadata": {},
   "source": [
    "經過特徵選擇，剔除掉了'GDP'與'PopulationDensity'兩個特徵，使用剩下的時隙特徵訓練出的模型細節與剔除前的模型相似幾乎相同。說明我們剔除的這兩個特徵，確實對模型擬合的目標沒有什麼幫助，可以去掉。"
   ]
  },
  {
   "cell_type": "markdown",
   "metadata": {},
   "source": [
    "分箱操作\n",
    "注意：分箱後，我們不能講每個區間映射為離散值，而適當使用One-Hot編碼"
   ]
  },
  {
   "cell_type": "code",
   "execution_count": 10,
   "metadata": {},
   "outputs": [
    {
     "data": {
      "text/html": [
       "<div>\n",
       "<style scoped>\n",
       "    .dataframe tbody tr th:only-of-type {\n",
       "        vertical-align: middle;\n",
       "    }\n",
       "\n",
       "    .dataframe tbody tr th {\n",
       "        vertical-align: top;\n",
       "    }\n",
       "\n",
       "    .dataframe thead th {\n",
       "        text-align: right;\n",
       "    }\n",
       "</style>\n",
       "<table border=\"1\" class=\"dataframe\">\n",
       "  <thead>\n",
       "    <tr style=\"text-align: right;\">\n",
       "      <th></th>\n",
       "      <th>Altitude</th>\n",
       "      <th>Coastal</th>\n",
       "      <th>GreenCoverageRate</th>\n",
       "      <th>Incineration</th>\n",
       "      <th>0</th>\n",
       "      <th>1</th>\n",
       "      <th>2</th>\n",
       "      <th>3</th>\n",
       "      <th>4</th>\n",
       "      <th>5</th>\n",
       "      <th>...</th>\n",
       "      <th>19</th>\n",
       "      <th>20</th>\n",
       "      <th>21</th>\n",
       "      <th>22</th>\n",
       "      <th>23</th>\n",
       "      <th>24</th>\n",
       "      <th>25</th>\n",
       "      <th>26</th>\n",
       "      <th>27</th>\n",
       "      <th>28</th>\n",
       "    </tr>\n",
       "  </thead>\n",
       "  <tbody>\n",
       "    <tr>\n",
       "      <th>27</th>\n",
       "      <td>189.0</td>\n",
       "      <td>0</td>\n",
       "      <td>39.56</td>\n",
       "      <td>21.78</td>\n",
       "      <td>0.0</td>\n",
       "      <td>0.0</td>\n",
       "      <td>1.0</td>\n",
       "      <td>0.0</td>\n",
       "      <td>0.0</td>\n",
       "      <td>0.0</td>\n",
       "      <td>...</td>\n",
       "      <td>0.0</td>\n",
       "      <td>0.0</td>\n",
       "      <td>0.0</td>\n",
       "      <td>0.0</td>\n",
       "      <td>0.0</td>\n",
       "      <td>1.0</td>\n",
       "      <td>0.0</td>\n",
       "      <td>0.0</td>\n",
       "      <td>0.0</td>\n",
       "      <td>0.0</td>\n",
       "    </tr>\n",
       "    <tr>\n",
       "      <th>167</th>\n",
       "      <td>791.0</td>\n",
       "      <td>0</td>\n",
       "      <td>36.00</td>\n",
       "      <td>23.00</td>\n",
       "      <td>0.0</td>\n",
       "      <td>1.0</td>\n",
       "      <td>0.0</td>\n",
       "      <td>0.0</td>\n",
       "      <td>0.0</td>\n",
       "      <td>0.0</td>\n",
       "      <td>...</td>\n",
       "      <td>0.0</td>\n",
       "      <td>0.0</td>\n",
       "      <td>0.0</td>\n",
       "      <td>0.0</td>\n",
       "      <td>0.0</td>\n",
       "      <td>1.0</td>\n",
       "      <td>0.0</td>\n",
       "      <td>0.0</td>\n",
       "      <td>0.0</td>\n",
       "      <td>0.0</td>\n",
       "    </tr>\n",
       "    <tr>\n",
       "      <th>274</th>\n",
       "      <td>321.0</td>\n",
       "      <td>0</td>\n",
       "      <td>38.22</td>\n",
       "      <td>29.21</td>\n",
       "      <td>0.0</td>\n",
       "      <td>1.0</td>\n",
       "      <td>0.0</td>\n",
       "      <td>0.0</td>\n",
       "      <td>0.0</td>\n",
       "      <td>0.0</td>\n",
       "      <td>...</td>\n",
       "      <td>0.0</td>\n",
       "      <td>0.0</td>\n",
       "      <td>0.0</td>\n",
       "      <td>0.0</td>\n",
       "      <td>0.0</td>\n",
       "      <td>0.0</td>\n",
       "      <td>1.0</td>\n",
       "      <td>0.0</td>\n",
       "      <td>0.0</td>\n",
       "      <td>0.0</td>\n",
       "    </tr>\n",
       "    <tr>\n",
       "      <th>37</th>\n",
       "      <td>149.0</td>\n",
       "      <td>0</td>\n",
       "      <td>43.70</td>\n",
       "      <td>43.64</td>\n",
       "      <td>0.0</td>\n",
       "      <td>0.0</td>\n",
       "      <td>0.0</td>\n",
       "      <td>1.0</td>\n",
       "      <td>0.0</td>\n",
       "      <td>1.0</td>\n",
       "      <td>...</td>\n",
       "      <td>0.0</td>\n",
       "      <td>0.0</td>\n",
       "      <td>0.0</td>\n",
       "      <td>0.0</td>\n",
       "      <td>0.0</td>\n",
       "      <td>0.0</td>\n",
       "      <td>0.0</td>\n",
       "      <td>0.0</td>\n",
       "      <td>0.0</td>\n",
       "      <td>1.0</td>\n",
       "    </tr>\n",
       "    <tr>\n",
       "      <th>54</th>\n",
       "      <td>146.0</td>\n",
       "      <td>0</td>\n",
       "      <td>34.24</td>\n",
       "      <td>29.20</td>\n",
       "      <td>0.0</td>\n",
       "      <td>0.0</td>\n",
       "      <td>0.0</td>\n",
       "      <td>1.0</td>\n",
       "      <td>0.0</td>\n",
       "      <td>1.0</td>\n",
       "      <td>...</td>\n",
       "      <td>0.0</td>\n",
       "      <td>0.0</td>\n",
       "      <td>0.0</td>\n",
       "      <td>0.0</td>\n",
       "      <td>0.0</td>\n",
       "      <td>0.0</td>\n",
       "      <td>0.0</td>\n",
       "      <td>0.0</td>\n",
       "      <td>1.0</td>\n",
       "      <td>0.0</td>\n",
       "    </tr>\n",
       "  </tbody>\n",
       "</table>\n",
       "<p>5 rows × 33 columns</p>\n",
       "</div>"
      ],
      "text/plain": [
       "     Altitude  Coastal  GreenCoverageRate  Incineration    0    1    2    3  \\\n",
       "27      189.0        0              39.56         21.78  0.0  0.0  1.0  0.0   \n",
       "167     791.0        0              36.00         23.00  0.0  1.0  0.0  0.0   \n",
       "274     321.0        0              38.22         29.21  0.0  1.0  0.0  0.0   \n",
       "37      149.0        0              43.70         43.64  0.0  0.0  0.0  1.0   \n",
       "54      146.0        0              34.24         29.20  0.0  0.0  0.0  1.0   \n",
       "\n",
       "       4    5  ...   19   20   21   22   23   24   25   26   27   28  \n",
       "27   0.0  0.0  ...  0.0  0.0  0.0  0.0  0.0  1.0  0.0  0.0  0.0  0.0  \n",
       "167  0.0  0.0  ...  0.0  0.0  0.0  0.0  0.0  1.0  0.0  0.0  0.0  0.0  \n",
       "274  0.0  0.0  ...  0.0  0.0  0.0  0.0  0.0  0.0  1.0  0.0  0.0  0.0  \n",
       "37   0.0  1.0  ...  0.0  0.0  0.0  0.0  0.0  0.0  0.0  0.0  0.0  1.0  \n",
       "54   0.0  1.0  ...  0.0  0.0  0.0  0.0  0.0  0.0  0.0  0.0  1.0  0.0  \n",
       "\n",
       "[5 rows x 33 columns]"
      ]
     },
     "metadata": {},
     "output_type": "display_data"
    }
   ],
   "source": [
    "from sklearn.preprocessing import KBinsDiscretizer\n",
    "k = KBinsDiscretizer(n_bins=[4, 5, 14, 6],\n",
    "                     encode=\"onehot-dense\",\n",
    "                     strategy=\"uniform\")\n",
    "\n",
    "discretize = [\"Longitude\", \"Temperature\", \"Precipitation\", \"Latitude\"]\n",
    "\n",
    "r = k.fit_transform(X_train_eli[discretize])\n",
    "r = pd.DataFrame(r, index=X_train_eli.index)\n",
    "# Obtain other features besides discrete features.\n",
    "X_train_dis = X_train_eli.drop(discretize, axis=1)\n",
    "# The discretized features are recombined with other features.\n",
    "X_train_dis = pd.concat([X_train_dis, r], axis=1)\n",
    "# The same discretization operation is performed for the test set.\n",
    "r = pd.DataFrame(k.transform(X_test_eli[discretize]), index=X_test_eli.index)\n",
    "X_test_dis = X_test_eli.drop(discretize, axis=1)\n",
    "X_test_dis = pd.concat([X_test_dis, r], axis=1)\n",
    "# View the format after the conversion.\n",
    "display(X_train_dis.head())"
   ]
  },
  {
   "cell_type": "code",
   "execution_count": 11,
   "metadata": {},
   "outputs": [
    {
     "name": "stdout",
     "output_type": "stream",
     "text": [
      "訓練集R^2： 0.6228876365383831\n",
      "測試集R^2： 0.5437609313595555\n"
     ]
    }
   ],
   "source": [
    "# training\n",
    "lr.fit(X_train_dis, y_train)\n",
    "print(\"訓練集R^2：\", lr.score(X_train_dis, y_train))\n",
    "print(\"測試集R^2：\", lr.score(X_test_dis, y_test))"
   ]
  },
  {
   "cell_type": "markdown",
   "metadata": {},
   "source": [
    "可以看到，經過離散化處理之後，我們的模型效果又得到了一定程度的提升"
   ]
  },
  {
   "cell_type": "code",
   "execution_count": null,
   "metadata": {},
   "outputs": [],
   "source": []
  }
 ],
 "metadata": {
  "kernelspec": {
   "display_name": "Python 3",
   "language": "python",
   "name": "python3"
  },
  "language_info": {
   "codemirror_mode": {
    "name": "ipython",
    "version": 3
   },
   "file_extension": ".py",
   "mimetype": "text/x-python",
   "name": "python",
   "nbconvert_exporter": "python",
   "pygments_lexer": "ipython3",
   "version": "3.8.5"
  },
  "toc": {
   "base_numbering": 1,
   "nav_menu": {},
   "number_sections": true,
   "sideBar": true,
   "skip_h1_title": false,
   "title_cell": "Table of Contents",
   "title_sidebar": "Contents",
   "toc_cell": false,
   "toc_position": {},
   "toc_section_display": true,
   "toc_window_display": true
  }
 },
 "nbformat": 4,
 "nbformat_minor": 4
}
